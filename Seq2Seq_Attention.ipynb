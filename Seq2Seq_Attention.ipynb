{
  "nbformat": 4,
  "nbformat_minor": 0,
  "metadata": {
    "colab": {
      "provenance": [],
      "gpuType": "T4"
    },
    "kernelspec": {
      "name": "python3",
      "display_name": "Python 3"
    },
    "language_info": {
      "name": "python"
    },
    "accelerator": "GPU"
  },
  "cells": [
    {
      "cell_type": "code",
      "execution_count": null,
      "metadata": {
        "id": "HWLrQl0I7k6y"
      },
      "outputs": [],
      "source": [
        "import math\n",
        "import torch\n",
        "import random\n",
        "import tarfile\n",
        "import torchtext\n",
        "import numpy as np\n",
        "import torch.nn as nn\n",
        "import matplotlib.pyplot as plt\n",
        "from collections import Counter\n",
        "import torch.nn.functional as F\n",
        "from torch.utils.data import Dataset , DataLoader"
      ]
    },
    {
      "cell_type": "code",
      "source": [
        "if torch.cuda.is_available():\n",
        "  dev = \"cuda:0\"\n",
        "else:\n",
        "  dev = \"cpu\"\n",
        "device = torch.device(dev)\n",
        "print(f\"Using {device} device\")"
      ],
      "metadata": {
        "id": "10pnUIfL7v79",
        "colab": {
          "base_uri": "https://localhost:8080/"
        },
        "outputId": "b7c173ef-e362-4ca8-de28-4712a2ea4f50"
      },
      "execution_count": null,
      "outputs": [
        {
          "output_type": "stream",
          "name": "stdout",
          "text": [
            "Using cuda:0 device\n"
          ]
        }
      ]
    },
    {
      "cell_type": "code",
      "source": [
        "SEED = 12345\n",
        "torch.manual_seed(SEED)\n",
        "torch.cuda.manual_seed(SEED)\n",
        "torch.backends.cudnn.deterministic = True"
      ],
      "metadata": {
        "id": "obGo0DBE7yz3"
      },
      "execution_count": null,
      "outputs": []
    },
    {
      "cell_type": "code",
      "source": [
        "with tarfile.open(\"/content/drive/MyDrive/MT/training.tar.gz\", \"r\") as tf:\n",
        "  print(\"Opened tarfile\")\n",
        "  tf.extractall(path=\"/content\")\n",
        "  print(\"All files extracted\")"
      ],
      "metadata": {
        "id": "7-JHEVPs703h",
        "colab": {
          "base_uri": "https://localhost:8080/"
        },
        "outputId": "4ed79c31-4018-44e7-fed5-06443691402d"
      },
      "execution_count": null,
      "outputs": [
        {
          "output_type": "stream",
          "name": "stdout",
          "text": [
            "Opened tarfile\n",
            "All files extracted\n"
          ]
        }
      ]
    },
    {
      "cell_type": "code",
      "source": [
        "!python -m spacy download en_core_web_sm\n",
        "!python -m spacy download de_core_news_sm"
      ],
      "metadata": {
        "id": "ekvKu0a173Mq",
        "collapsed": true
      },
      "execution_count": null,
      "outputs": []
    },
    {
      "cell_type": "code",
      "source": [
        "en_tok_model = torchtext.data.utils.get_tokenizer('spacy', language='en_core_web_sm')\n",
        "de_tok_model = torchtext.data.utils.get_tokenizer('spacy', language='de_core_news_sm')"
      ],
      "metadata": {
        "id": "F0Z3ZhaH76dn"
      },
      "execution_count": null,
      "outputs": []
    },
    {
      "cell_type": "code",
      "source": [
        "def de_tokenizer(sentence):\n",
        "  return de_tok_model(sentence)\n",
        "\n",
        "def en_tokenizer(sentence):\n",
        "  return en_tok_model(sentence)"
      ],
      "metadata": {
        "id": "CX6h6dHp78o4"
      },
      "execution_count": null,
      "outputs": []
    },
    {
      "cell_type": "code",
      "source": [
        "class Data():\n",
        "  def __init__(self, en_filename, de_filename):\n",
        "    self.en_file = open(en_filename, mode='rt', encoding='utf-8')\n",
        "    self.en_text = self.en_file.read()\n",
        "    self.en_file.close()\n",
        "    self.de_file = open(de_filename, mode='rt', encoding='utf-8')\n",
        "    self.de_text = self.de_file.read()\n",
        "    self.de_file.close()\n",
        "    self.en_text = self.en_text.strip().split('\\n')\n",
        "    self.de_text = self.de_text.strip().split('\\n')\n",
        "  def data(self):\n",
        "    return self.en_text, self.de_text"
      ],
      "metadata": {
        "id": "QRfVfs427_Nu"
      },
      "execution_count": null,
      "outputs": []
    },
    {
      "cell_type": "code",
      "source": [
        "class Vocab():\n",
        "  def __init__(self, en_filename, de_filename):\n",
        "    self.en_len = 0\n",
        "    self.de_len = 0\n",
        "    self.en_count = Counter()\n",
        "    self.de_count = Counter()\n",
        "    self.en_data, self.de_data = Data(en_filename, de_filename).data()\n",
        "    for idx in range(len(self.en_data)):\n",
        "      self.en_sent = self.en_data[idx]\n",
        "      self.de_sent = self.de_data[idx]\n",
        "      self.en_sent = ['<SOS>'] + en_tokenizer(self.en_sent.lower().strip()) + ['<EOS>']\n",
        "      self.de_sent = ['<SOS>'] + de_tokenizer(self.de_sent.lower().strip()) + ['<EOS>']\n",
        "      if(len(self.en_sent) > self.en_len):\n",
        "        self.en_len = len(self.en_sent)\n",
        "      if(len(self.de_sent) > self.de_len):\n",
        "        self.de_len = len(self.de_sent)\n",
        "      self.en_count.update(self.en_sent)\n",
        "      self.de_count.update(self.de_sent)\n",
        "    self.en_vocab = set()\n",
        "    for k,c in self.en_count.items():\n",
        "      if len(self.en_vocab)<8190 :\n",
        "        self.en_vocab.add(k)\n",
        "    self.en_vocab.add('<PAD>')\n",
        "    self.de_vocab = set()\n",
        "    for k,c in self.de_count.items():\n",
        "      if len(self.de_vocab)<8190 :\n",
        "        self.de_vocab.add(k)\n",
        "    self.de_vocab.add('<PAD>')\n",
        "  def vocab(self):\n",
        "    return self.en_vocab, self.de_vocab, self.en_len, self.de_len"
      ],
      "metadata": {
        "id": "ENEo4FvL8Bft"
      },
      "execution_count": null,
      "outputs": []
    },
    {
      "cell_type": "code",
      "source": [
        "class Multi30K(Dataset):\n",
        "  def __init__(self, en_filename, de_filename):\n",
        "    self.en_data, self.de_data = Data(en_filename, de_filename).data()\n",
        "    self.en_vocab, self.de_vocab, self.en_len, self.de_len = Vocab(en_filename, de_filename).vocab()\n",
        "    self.en_word2idx = {w: idx for (idx, w) in enumerate(self.en_vocab)}\n",
        "    self.en_word2idx.update({'<UNK>' : len(self.en_word2idx)})\n",
        "    self.en_idx2word = {idx: w for (idx, w) in enumerate(self.en_vocab)}\n",
        "    self.en_idx2word.update({len(self.en_idx2word) : '<UNK>'})\n",
        "    self.de_word2idx = {w: idx for (idx, w) in enumerate(self.de_vocab)}\n",
        "    self.de_word2idx.update({'<UNK>' : len(self.de_word2idx)})\n",
        "    self.de_idx2word = {idx: w for (idx, w) in enumerate(self.de_vocab)}\n",
        "    self.de_idx2word.update({len(self.de_idx2word) : '<UNK>'})\n",
        "\n",
        "  def __len__(self):\n",
        "    return len(self.en_data)\n",
        "\n",
        "  def __getitem__(self, index):\n",
        "    en_sent = self.en_data[index]\n",
        "    de_sent = self.de_data[index]\n",
        "    en_sent = ['<SOS>'] + en_tokenizer(en_sent.lower().strip()) + ['<EOS>']\n",
        "    de_sent = ['<SOS>'] + de_tokenizer(de_sent.lower().strip()) + ['<EOS>']\n",
        "    for i in range(len(en_sent)):\n",
        "      if en_sent[i] in self.en_vocab:\n",
        "        en_sent[i] = self.en_word2idx[en_sent[i]]\n",
        "      else:\n",
        "        en_sent[i] = self.en_word2idx['<UNK>']\n",
        "    for i in range(len(de_sent)):\n",
        "      if de_sent[i] in self.de_vocab:\n",
        "        de_sent[i] = self.de_word2idx[de_sent[i]]\n",
        "      else:\n",
        "        de_sent[i] = self.de_word2idx['<UNK>']\n",
        "    for i in range(len(en_sent), self.en_len):\n",
        "      en_sent.append(self.en_word2idx['<PAD>'])\n",
        "    for i in range(len(de_sent), self.de_len):\n",
        "      de_sent.append(self.de_word2idx['<PAD>'])\n",
        "    en_sent = torch.tensor(en_sent)\n",
        "    de_sent = torch.tensor(de_sent)\n",
        "    return en_sent, de_sent"
      ],
      "metadata": {
        "id": "YTXXbyv78EX6"
      },
      "execution_count": null,
      "outputs": []
    },
    {
      "cell_type": "code",
      "source": [
        "class Encoder(nn.Module):\n",
        "  def __init__(self, input_dim, emb_dim, enc_hid_dim, dec_hid_dim, dropout):\n",
        "    super().__init__()\n",
        "    self.embedding = nn.Embedding(input_dim, emb_dim)\n",
        "    self.rnn = nn.GRU(emb_dim, enc_hid_dim, bidirectional = True)\n",
        "    self.fc = nn.Linear(enc_hid_dim, dec_hid_dim)\n",
        "    self.dropout = nn.Dropout(dropout)\n",
        "\n",
        "  def forward(self, src):\n",
        "    src = src.transpose(0, 1)\n",
        "    embedded = self.dropout(self.embedding(src)).transpose(0, 1)\n",
        "    enc_output, enc_hidden = self.rnn(embedded)\n",
        "    h_n = torch.tanh(self.fc(enc_hidden))\n",
        "    return enc_output, h_n"
      ],
      "metadata": {
        "id": "R_qh2yJtJytf"
      },
      "execution_count": null,
      "outputs": []
    },
    {
      "cell_type": "code",
      "source": [
        "class Attention(nn.Module):\n",
        "  def __init__(self, enc_hid_dim, dec_hid_dim):\n",
        "    super().__init__()\n",
        "    self.attn = nn.Linear((enc_hid_dim*2) + 2*dec_hid_dim, dec_hid_dim, bias=False)\n",
        "    self.v = nn.Linear(dec_hid_dim, 1, bias = False)\n",
        "    self.softmax = nn.Softmax(dim = 1)\n",
        "\n",
        "  def forward(self, h_n, enc_output, mask):\n",
        "    batch_size = enc_output.shape[1]\n",
        "    src_len = enc_output.shape[0]\n",
        "    h_n = h_n.reshape(h_n.size(1), h_n.size(0)*h_n.size(2))\n",
        "    h_n = h_n.unsqueeze(1).repeat(1, src_len, 1)\n",
        "    enc_output = enc_output.transpose(0, 1)\n",
        "    energy = torch.tanh(self.attn(torch.cat((h_n, enc_output), dim = 2)))\n",
        "    attention = self.v(energy).squeeze(2)\n",
        "    attention = attention.masked_fill(mask == 0, -1e10)\n",
        "    attention = self.softmax(attention).unsqueeze(1)\n",
        "    weighted = torch.bmm(attention, enc_output)\n",
        "    return weighted.permute(1, 0, 2), attention"
      ],
      "metadata": {
        "id": "ZeYR0W00qcGj"
      },
      "execution_count": null,
      "outputs": []
    },
    {
      "cell_type": "code",
      "source": [
        "class Decoder(nn.Module):\n",
        "  def __init__(self, output_dim, emb_dim, enc_hid_dim, dec_hid_dim, dropout, attention):\n",
        "    super().__init__()\n",
        "    self.output_dim = output_dim\n",
        "    self.attention = attention\n",
        "    self.embedding = nn.Embedding(output_dim, emb_dim)\n",
        "    self.rnn = nn.GRU((enc_hid_dim*2) + emb_dim, dec_hid_dim, num_layers=2)\n",
        "    self.fc_out = nn.Linear((enc_hid_dim*2) + dec_hid_dim + emb_dim, output_dim)\n",
        "    self.dropout = nn.Dropout(dropout)\n",
        "\n",
        "  def forward(self, dec_input, h_n, enc_output, mask):\n",
        "    dec_input = dec_input.unsqueeze(1)\n",
        "    embedded = self.dropout(self.embedding(dec_input)).transpose(0, 1)\n",
        "    weighted, attend = self.attention(h_n, enc_output, mask)\n",
        "    rnn_input = torch.cat((embedded, weighted), dim = 2)\n",
        "    dec_output, dec_hidden = self.rnn(rnn_input, h_n)\n",
        "    embedded = embedded.squeeze(0)\n",
        "    dec_output = dec_output.squeeze(0)\n",
        "    weighted = weighted.squeeze(0)\n",
        "    pred = self.fc_out(torch.cat((dec_output, weighted, embedded), dim=1))\n",
        "    return pred, dec_hidden"
      ],
      "metadata": {
        "id": "vT234pb0Mza_"
      },
      "execution_count": null,
      "outputs": []
    },
    {
      "cell_type": "code",
      "source": [
        "class Model(nn.Module):\n",
        "  def __init__(self, encoder, decoder, device, src_pad_idx):\n",
        "    super().__init__()\n",
        "    self.encoder = encoder\n",
        "    self.decoder = decoder\n",
        "    self.device = device\n",
        "    self.src_pad_idx = src_pad_idx\n",
        "\n",
        "  def create_mask(self, source):\n",
        "    mask = (source != self.src_pad_idx).permute(1, 0)\n",
        "    return mask\n",
        "\n",
        "  def forward(self, src, trg, teacher_forcing_ratio = 0.5):\n",
        "    batch_size = src.shape[1]\n",
        "    trg_len = trg.shape[0]\n",
        "    trg_vocab_size = self.decoder.output_dim\n",
        "    outputs = torch.zeros(trg_len, batch_size, trg_vocab_size).to(self.device)\n",
        "    enc_output, h_n = self.encoder(src)\n",
        "    dec_input = trg[0,:]\n",
        "    mask = self.create_mask(src)\n",
        "    for t in range(1, trg_len):\n",
        "      dec_output, h_n = self.decoder(dec_input, h_n, enc_output, mask)\n",
        "      outputs[t] = dec_output\n",
        "      teacher_force = random.random() < teacher_forcing_ratio\n",
        "      top = dec_output.argmax(1)\n",
        "      dec_input = trg[t] if teacher_force else top\n",
        "    return outputs"
      ],
      "metadata": {
        "id": "vv5R_DzlFjk_"
      },
      "execution_count": null,
      "outputs": []
    },
    {
      "cell_type": "code",
      "source": [
        "params = {'batch_size': 32,\n",
        "          'shuffle': True,\n",
        "          'num_workers': 2}"
      ],
      "metadata": {
        "id": "umKUTsPN8NXp"
      },
      "execution_count": null,
      "outputs": []
    },
    {
      "cell_type": "code",
      "source": [
        "dataset = Multi30K('/content/train.en', '/content/train.de')\n",
        "data = DataLoader(dataset, **params)"
      ],
      "metadata": {
        "id": "4Q1FG_dR8hKJ"
      },
      "execution_count": null,
      "outputs": []
    },
    {
      "cell_type": "code",
      "source": [
        "en_vocab_size = len(dataset.en_vocab)\n",
        "de_vocab_size = len(dataset.de_vocab)\n",
        "print(\"German Vocab Size : \", de_vocab_size)\n",
        "print(\"English Vocab Size : \", en_vocab_size)"
      ],
      "metadata": {
        "id": "PcePzDKi8krx",
        "colab": {
          "base_uri": "https://localhost:8080/"
        },
        "outputId": "fd243b1c-cce0-43e0-81da-24b281dea6e6"
      },
      "execution_count": null,
      "outputs": [
        {
          "output_type": "stream",
          "name": "stdout",
          "text": [
            "German Vocab Size :  8191\n",
            "English Vocab Size :  8191\n"
          ]
        }
      ]
    },
    {
      "cell_type": "code",
      "source": [
        "INPUT_DIM = en_vocab_size+1\n",
        "OUTPUT_DIM = de_vocab_size+1\n",
        "ENC_EMB_DIM = 256\n",
        "DEC_EMB_DIM = 256\n",
        "ENC_HID_DIM = 512\n",
        "DEC_HID_DIM = 512\n",
        "ENC_DROPOUT = 0.5\n",
        "DEC_DROPOUT = 0.5\n",
        "\n",
        "attn = Attention(ENC_HID_DIM, DEC_HID_DIM)\n",
        "enc = Encoder(INPUT_DIM, ENC_EMB_DIM, ENC_HID_DIM, DEC_HID_DIM, ENC_DROPOUT)\n",
        "dec = Decoder(OUTPUT_DIM, DEC_EMB_DIM, ENC_HID_DIM, DEC_HID_DIM, DEC_DROPOUT, attn)\n",
        "\n",
        "model = Model(enc, dec, device, dataset.en_word2idx[\"<PAD>\"]).to(device)\n",
        "criterion = nn.CrossEntropyLoss(ignore_index=dataset.de_word2idx[\"<PAD>\"])\n",
        "optimizer = torch.optim.Adam(model.parameters())"
      ],
      "metadata": {
        "id": "nmtyXZMG8jAp"
      },
      "execution_count": null,
      "outputs": []
    },
    {
      "cell_type": "code",
      "source": [
        "train_loss, train_perplexity = [], []\n",
        "valid_loss, valid_perplexity = [], []\n",
        "for epoch in range(10):\n",
        "  epoch_loss = 0\n",
        "  for t, (en,de) in enumerate(data):\n",
        "    if t < 906:\n",
        "      en = en.mT.to(device)\n",
        "      de = de.mT.to(device)\n",
        "      out = model(en, de)\n",
        "      loss = criterion(out.reshape(-1, out.shape[2]), de.reshape(-1))\n",
        "      epoch_loss += float(loss)\n",
        "      optimizer.zero_grad()\n",
        "      loss.backward()\n",
        "      optimizer.step()\n",
        "    else:\n",
        "      en = en.mT.to(device)\n",
        "      de = de.mT.to(device)\n",
        "      out = model(en, de)\n",
        "      loss = criterion(out.reshape(-1, out.shape[2]), de.reshape(-1))\n",
        "      out = torch.argmax(out, dim=2)\n",
        "\n",
        "  valid_loss.append(float(loss))\n",
        "  train_loss.append(epoch_loss/len(data))\n",
        "  valid_perplexity.append(float(torch.exp(loss)))\n",
        "  train_perplexity.append(math.exp(epoch_loss/len(data)))\n",
        "  print(\"-\"*25, f\"Epoch {epoch + 1}\",\"-\"*25)\n",
        "  print(\"Train Loss : \", round(train_loss[-1],3), \"Train Perplexity : \", round(train_perplexity[-1],3))\n",
        "  print(\"Valid Loss : \", round(valid_loss[-1],3), \"Valid Perplexity : \", round(valid_perplexity[-1],3))"
      ],
      "metadata": {
        "colab": {
          "base_uri": "https://localhost:8080/"
        },
        "id": "I_7LsH2rH-xw",
        "outputId": "39bb0c08-9a03-4879-eb2c-4299cc3a3f1b"
      },
      "execution_count": null,
      "outputs": [
        {
          "output_type": "stream",
          "name": "stdout",
          "text": [
            "------------------------- Epoch 1 -------------------------\n",
            "Train Loss :  4.013 Train Perplexity :  55.304\n",
            "Valid Loss :  3.402 Valid Perplexity :  30.032\n",
            "------------------------- Epoch 2 -------------------------\n",
            "Train Loss :  3.125 Train Perplexity :  22.761\n",
            "Valid Loss :  3.191 Valid Perplexity :  24.308\n",
            "------------------------- Epoch 3 -------------------------\n",
            "Train Loss :  2.78 Train Perplexity :  16.115\n",
            "Valid Loss :  2.808 Valid Perplexity :  16.572\n",
            "------------------------- Epoch 4 -------------------------\n",
            "Train Loss :  2.595 Train Perplexity :  13.394\n",
            "Valid Loss :  2.419 Valid Perplexity :  11.237\n",
            "------------------------- Epoch 5 -------------------------\n",
            "Train Loss :  2.484 Train Perplexity :  11.987\n",
            "Valid Loss :  2.741 Valid Perplexity :  15.503\n",
            "------------------------- Epoch 6 -------------------------\n",
            "Train Loss :  2.42 Train Perplexity :  11.242\n",
            "Valid Loss :  2.301 Valid Perplexity :  9.989\n",
            "------------------------- Epoch 7 -------------------------\n",
            "Train Loss :  2.353 Train Perplexity :  10.522\n",
            "Valid Loss :  1.908 Valid Perplexity :  6.74\n",
            "------------------------- Epoch 8 -------------------------\n",
            "Train Loss :  2.313 Train Perplexity :  10.102\n",
            "Valid Loss :  2.31 Valid Perplexity :  10.072\n",
            "------------------------- Epoch 9 -------------------------\n",
            "Train Loss :  2.275 Train Perplexity :  9.724\n",
            "Valid Loss :  1.951 Valid Perplexity :  7.039\n",
            "------------------------- Epoch 10 -------------------------\n",
            "Train Loss :  2.254 Train Perplexity :  9.528\n",
            "Valid Loss :  2.075 Valid Perplexity :  7.966\n"
          ]
        }
      ]
    },
    {
      "cell_type": "code",
      "source": [
        "plt.plot(train_loss, 'o:r')\n",
        "plt.title(\"Training Loss\")\n",
        "plt.show()"
      ],
      "metadata": {
        "colab": {
          "base_uri": "https://localhost:8080/",
          "height": 452
        },
        "id": "GdeMi0Rfg6_W",
        "outputId": "a0d3b164-f316-4440-dadf-f720915ad860"
      },
      "execution_count": null,
      "outputs": [
        {
          "output_type": "display_data",
          "data": {
            "text/plain": [
              "<Figure size 640x480 with 1 Axes>"
            ],
            "image/png": "[encoded data removed]"
          },
          "metadata": {}
        }
      ]
    },
    {
      "cell_type": "code",
      "source": [
        "plt.plot(valid_loss, 'o:r')\n",
        "plt.title(\"Validation Loss\")\n",
        "plt.show()"
      ],
      "metadata": {
        "colab": {
          "base_uri": "https://localhost:8080/",
          "height": 452
        },
        "id": "VchRpPxDpHQ5",
        "outputId": "7f45a4a3-fc7d-40f2-eb8b-49e584a0b7bf"
      },
      "execution_count": null,
      "outputs": [
        {
          "output_type": "display_data",
          "data": {
            "text/plain": [
              "<Figure size 640x480 with 1 Axes>"
            ],
            "image/png": "[encoded data removed]"
          },
          "metadata": {}
        }
      ]
    },
    {
      "cell_type": "code",
      "source": [
        "plt.plot(train_perplexity, 'o:r')\n",
        "plt.title(\"Training Perplexity\")\n",
        "plt.show()"
      ],
      "metadata": {
        "colab": {
          "base_uri": "https://localhost:8080/",
          "height": 452
        },
        "id": "0uAVwDSDg9JI",
        "outputId": "25948ac2-5994-4778-b375-ae03353eb19c"
      },
      "execution_count": null,
      "outputs": [
        {
          "output_type": "display_data",
          "data": {
            "text/plain": [
              "<Figure size 640x480 with 1 Axes>"
            ],
            "image/png": "[encoded data removed]"
          },
          "metadata": {}
        }
      ]
    },
    {
      "cell_type": "code",
      "source": [
        "plt.plot(valid_perplexity, 'o:r')\n",
        "plt.title(\"Validation Perplexity\")\n",
        "plt.show()"
      ],
      "metadata": {
        "colab": {
          "base_uri": "https://localhost:8080/",
          "height": 452
        },
        "id": "3pP6V1-vpTI5",
        "outputId": "0e42b645-6c16-457c-d187-19ba34f978f9"
      },
      "execution_count": null,
      "outputs": [
        {
          "output_type": "display_data",
          "data": {
            "text/plain": [
              "<Figure size 640x480 with 1 Axes>"
            ],
            "image/png": "[encoded data removed]"
          },
          "metadata": {}
        }
      ]
    },
    {
      "cell_type": "code",
      "source": [
        "def Translate(src_sentence, model):\n",
        "  model.eval()\n",
        "  with torch.no_grad():\n",
        "    enc_hid, h_n = model.encoder(src_sentence)\n",
        "  dec_states = h_n\n",
        "  sos_id = dataset.de_word2idx['<SOS>']\n",
        "  eos_id = dataset.de_word2idx['<EOS>']\n",
        "  predicts = [sos_id]\n",
        "  len = 1\n",
        "  max_len = 40\n",
        "  src_mask = model.create_mask(src_sentence)\n",
        "  while len < max_len:\n",
        "    inp = torch.LongTensor([predicts[-1]]).view((1)).to(device)\n",
        "    with torch.no_grad():\n",
        "      outputs, dec_states = model.decoder(inp, dec_states, enc_hid, src_mask)\n",
        "    outputs = outputs.squeeze()\n",
        "    outputs = outputs.view(-1, 8192)\n",
        "    predicts.append(outputs.argmax(-1).item())\n",
        "    len += 1\n",
        "    if predicts[-1] == eos_id:\n",
        "      break\n",
        "  sentence = [dataset.de_idx2word[id] for id in predicts]\n",
        "  return sentence"
      ],
      "metadata": {
        "id": "dPlA1NoiXsKt"
      },
      "execution_count": null,
      "outputs": []
    },
    {
      "cell_type": "code",
      "source": [
        "from nltk.translate.bleu_score import sentence_bleu"
      ],
      "metadata": {
        "id": "bLsBCYvgZk_W"
      },
      "execution_count": null,
      "outputs": []
    },
    {
      "cell_type": "code",
      "source": [
        "def CalcBELU(model, dataset):\n",
        "  belu_score = 0\n",
        "  for n in range(1,9):\n",
        "    true_translation = []\n",
        "    (en,de) = dataset[-n]\n",
        "    en = en.resize_(en.size(0),1).to(device)\n",
        "    pred_translation = Translate(en, model)\n",
        "    for id in de:\n",
        "      if id != dataset.de_word2idx['<PAD>']:\n",
        "        true_translation.append(dataset.de_idx2word[int(id)])\n",
        "    belu_score += float(sentence_bleu([pred_translation], true_translation))\n",
        "  return belu_score/8"
      ],
      "metadata": {
        "id": "xsMnv-s7ZnMk"
      },
      "execution_count": null,
      "outputs": []
    },
    {
      "cell_type": "code",
      "source": [
        "print(\"Obtained BELU Score : \", CalcBELU(model, dataset)*100)"
      ],
      "metadata": {
        "colab": {
          "base_uri": "https://localhost:8080/"
        },
        "id": "Gg5kx8K1ZpOF",
        "outputId": "93cab832-e89f-4173-c9ea-0c364a6d2ba1"
      },
      "execution_count": null,
      "outputs": [
        {
          "output_type": "stream",
          "name": "stdout",
          "text": [
            "Obtained BELU Score :  30.47930138369077\n"
          ]
        }
      ]
    },
    {
      "cell_type": "code",
      "source": [
        "txt = input(\"Enter A Text : \")\n",
        "txt = en_tokenizer(txt.lower().strip())\n",
        "for i in range(len(txt)):\n",
        "  if txt[i] in dataset.en_vocab:\n",
        "    txt[i] = dataset.en_word2idx[txt[i]]\n",
        "  else:\n",
        "    txt[i] = dataset.en_word2idx['<UNK>']\n",
        "  for i in range(len(txt), dataset.en_len):\n",
        "    txt.append(dataset.en_word2idx['<PAD>'])\n",
        "txt = torch.tensor(txt)\n",
        "txt.resize_(len(txt), 1)\n",
        "txt = txt.to(device)\n",
        "german = Translate(txt, model)\n",
        "print(german)"
      ],
      "metadata": {
        "colab": {
          "base_uri": "https://localhost:8080/"
        },
        "id": "A3OZVIbfcBHJ",
        "outputId": "de208ed4-e1f0-438d-d0c6-649906bd35c4"
      },
      "execution_count": null,
      "outputs": [
        {
          "output_type": "stream",
          "name": "stdout",
          "text": [
            "Enter A Text : A group of people having a barbecue at a park.\n",
            "['<SOS>', 'eine', 'gruppe', 'von', 'personen', 'in', 'einem', 'park', 'eine', 'gruppe', 'von', 'menschen', '.', '<EOS>']\n"
          ]
        }
      ]
    }
  ]
}