{
  "nbformat": 4,
  "nbformat_minor": 0,
  "metadata": {
    "colab": {
      "provenance": []
    },
    "kernelspec": {
      "name": "python3",
      "display_name": "Python 3"
    },
    "language_info": {
      "name": "python"
    },
    "accelerator": "GPU",
    "gpuClass": "standard"
  },
  "cells": [
    {
      "cell_type": "code",
      "execution_count": null,
      "metadata": {
        "id": "bzZC9-RuG67U"
      },
      "outputs": [],
      "source": [
        "import math\n",
        "import torch\n",
        "import random\n",
        "import tarfile\n",
        "import torchtext\n",
        "import torch.nn as nn\n",
        "import matplotlib.pyplot as plt\n",
        "from collections import Counter\n",
        "import torch.nn.functional as F\n",
        "from torch.utils.data import Dataset , DataLoader"
      ]
    },
    {
      "cell_type": "code",
      "source": [
        "if torch.cuda.is_available():\n",
        "  dev = \"cuda:0\"\n",
        "else:\n",
        "  dev = \"cpu\"\n",
        "device = torch.device(dev)\n",
        "print(f\"Using {device} device\")"
      ],
      "metadata": {
        "id": "mLiYaVcUHA0_",
        "colab": {
          "base_uri": "https://localhost:8080/"
        },
        "outputId": "434d28ca-53e4-4771-f088-4bb8e2572e93"
      },
      "execution_count": null,
      "outputs": [
        {
          "output_type": "stream",
          "name": "stdout",
          "text": [
            "Using cuda:0 device\n"
          ]
        }
      ]
    },
    {
      "cell_type": "code",
      "source": [
        "SEED = 12345\n",
        "torch.manual_seed(SEED)\n",
        "torch.cuda.manual_seed(SEED)\n",
        "torch.backends.cudnn.deterministic = True"
      ],
      "metadata": {
        "id": "lN9jKuAObOGX"
      },
      "execution_count": null,
      "outputs": []
    },
    {
      "cell_type": "code",
      "source": [
        "with tarfile.open(\"/content/drive/MyDrive/MT/training.tar.gz\", \"r\") as tf:\n",
        "    print(\"Opened tarfile\")\n",
        "    tf.extractall(path=\"/content\")\n",
        "    print(\"All files extracted\")"
      ],
      "metadata": {
        "colab": {
          "base_uri": "https://localhost:8080/"
        },
        "id": "qDgvHgxt_yn-",
        "outputId": "d31c9f16-80c2-446a-8048-12f4720ed199"
      },
      "execution_count": null,
      "outputs": [
        {
          "output_type": "stream",
          "name": "stdout",
          "text": [
            "Opened tarfile\n",
            "All files extracted\n"
          ]
        }
      ]
    },
    {
      "cell_type": "code",
      "source": [
        "!python -m spacy download en_core_web_sm\n",
        "!python -m spacy download de_core_news_sm"
      ],
      "metadata": {
        "id": "IB8is8UoOMe-"
      },
      "execution_count": null,
      "outputs": []
    },
    {
      "cell_type": "code",
      "source": [
        "en_tok_model = torchtext.data.utils.get_tokenizer('spacy', language='en_core_web_sm')\n",
        "de_tok_model = torchtext.data.utils.get_tokenizer('spacy', language='de_core_news_sm')"
      ],
      "metadata": {
        "id": "6MBeiHwYOOYj"
      },
      "execution_count": null,
      "outputs": []
    },
    {
      "cell_type": "code",
      "source": [
        "def de_tokenizer(sentence):\n",
        "  return de_tok_model(sentence)\n",
        "\n",
        "def en_tokenizer(sentence):\n",
        "  return en_tok_model(sentence)"
      ],
      "metadata": {
        "id": "k_ekAxfXOQia"
      },
      "execution_count": null,
      "outputs": []
    },
    {
      "cell_type": "code",
      "source": [
        "class Data():\n",
        "  def __init__(self, en_filename, de_filename):\n",
        "    self.en_file = open(en_filename, mode='rt', encoding='utf-8')\n",
        "    self.en_text = self.en_file.read()\n",
        "    self.en_file.close()\n",
        "    self.de_file = open(de_filename, mode='rt', encoding='utf-8')\n",
        "    self.de_text = self.de_file.read()\n",
        "    self.de_file.close()\n",
        "    self.en_text = self.en_text.strip().split('\\n')\n",
        "    self.de_text = self.de_text.strip().split('\\n')\n",
        "  def data(self):\n",
        "    return self.en_text, self.de_text"
      ],
      "metadata": {
        "id": "1OUzRjqyB_na"
      },
      "execution_count": null,
      "outputs": []
    },
    {
      "cell_type": "code",
      "source": [
        "class Vocab():\n",
        "  def __init__(self, en_filename, de_filename):\n",
        "    self.en_len = 0\n",
        "    self.de_len = 0\n",
        "    self.en_count = Counter()\n",
        "    self.de_count = Counter()\n",
        "    self.en_data, self.de_data = Data(en_filename, de_filename).data()\n",
        "    for idx in range(len(self.en_data)):\n",
        "      self.en_sent = self.en_data[idx]\n",
        "      self.de_sent = self.de_data[idx]\n",
        "      self.en_sent = ['<SOS>'] + en_tokenizer(self.en_sent.lower().strip()) + ['<EOS>']\n",
        "      self.de_sent = ['<SOS>'] + de_tokenizer(self.de_sent.lower().strip()) + ['<EOS>']\n",
        "      if(len(self.en_sent) > self.en_len):\n",
        "        self.en_len = len(self.en_sent)\n",
        "      if(len(self.de_sent) > self.de_len):\n",
        "        self.de_len = len(self.de_sent)\n",
        "      self.en_count.update(self.en_sent)\n",
        "      self.de_count.update(self.de_sent)\n",
        "    self.en_vocab = set()\n",
        "    for k,c in self.en_count.items():\n",
        "      if len(self.en_vocab)<8190 :\n",
        "        self.en_vocab.add(k)\n",
        "    self.en_vocab.add('<PAD>')\n",
        "    self.de_vocab = set()\n",
        "    for k,c in self.de_count.items():\n",
        "      if len(self.de_vocab)<8190 :\n",
        "        self.de_vocab.add(k)\n",
        "    self.de_vocab.add('<PAD>')\n",
        "  def vocab(self):\n",
        "    return self.en_vocab, self.de_vocab, self.en_len, self.de_len"
      ],
      "metadata": {
        "id": "lIwOe9W_J96Y"
      },
      "execution_count": null,
      "outputs": []
    },
    {
      "cell_type": "code",
      "source": [
        "class Multi30K(Dataset):\n",
        "  def __init__(self, en_filename, de_filename):\n",
        "    self.en_data, self.de_data = Data(en_filename, de_filename).data()\n",
        "    self.en_vocab, self.de_vocab, self.en_len, self.de_len = Vocab(en_filename, de_filename).vocab()\n",
        "    self.en_word2idx = {w: idx for (idx, w) in enumerate(self.en_vocab)}\n",
        "    self.en_word2idx.update({'<UNK>' : len(self.en_word2idx)})\n",
        "    self.en_idx2word = {idx: w for (idx, w) in enumerate(self.en_vocab)}\n",
        "    self.en_idx2word.update({len(self.en_idx2word) : '<UNK>'})\n",
        "    self.de_word2idx = {w: idx for (idx, w) in enumerate(self.de_vocab)}\n",
        "    self.de_word2idx.update({'<UNK>' : len(self.de_word2idx)})\n",
        "    self.de_idx2word = {idx: w for (idx, w) in enumerate(self.de_vocab)}\n",
        "    self.de_idx2word.update({len(self.de_idx2word) : '<UNK>'})\n",
        "\n",
        "  def __len__(self):\n",
        "    return len(self.en_data)\n",
        "\n",
        "  def __getitem__(self, index):\n",
        "    en_sent = self.en_data[index]\n",
        "    de_sent = self.de_data[index]\n",
        "    en_sent = ['<SOS>'] + en_tokenizer(en_sent.lower().strip()) + ['<EOS>']\n",
        "    de_sent = ['<SOS>'] + de_tokenizer(de_sent.lower().strip()) + ['<EOS>']\n",
        "    for i in range(len(en_sent)):\n",
        "      if en_sent[i] in self.en_vocab:\n",
        "        en_sent[i] = self.en_word2idx[en_sent[i]]\n",
        "      else:\n",
        "        en_sent[i] = self.en_word2idx['<UNK>']\n",
        "    for i in range(len(de_sent)):\n",
        "      if de_sent[i] in self.de_vocab:\n",
        "        de_sent[i] = self.de_word2idx[de_sent[i]]\n",
        "      else:\n",
        "        de_sent[i] = self.de_word2idx['<UNK>']\n",
        "    for i in range(len(en_sent), self.en_len):\n",
        "      en_sent.append(self.en_word2idx['<PAD>'])\n",
        "    for i in range(len(de_sent), self.de_len):\n",
        "      de_sent.append(self.de_word2idx['<PAD>'])\n",
        "    en_sent = torch.tensor(en_sent)\n",
        "    de_sent = torch.tensor(de_sent)\n",
        "    return en_sent, de_sent"
      ],
      "metadata": {
        "id": "cV7se02NTNpm"
      },
      "execution_count": null,
      "outputs": []
    },
    {
      "cell_type": "code",
      "source": [
        "class EncoderRNN(nn.Module):\n",
        "  def __init__(self,  embedding_dim, hidden_size, vocab_size, num_layers):\n",
        "    super(EncoderRNN, self).__init__()\n",
        "    self.embedd = nn.Embedding(vocab_size, embedding_dim)\n",
        "    self.encoder_rnn = nn.LSTM(embedding_dim, hidden_size, num_layers)\n",
        "\n",
        "  def forward(self, en_sent):\n",
        "    embeddings = self.embedd(en_sent)\n",
        "    out, states = self.encoder_rnn(embeddings)\n",
        "    return states\n",
        "\n",
        "class DecoderRNN(nn.Module):\n",
        "  def __init__(self,  embedding_dim, hidden_size, vocab_size, num_layers):\n",
        "    super(DecoderRNN, self).__init__()\n",
        "    self.embedd = nn.Embedding(vocab_size, embedding_dim)\n",
        "    self.decoder_rnn = nn.LSTM(embedding_dim, hidden_size, num_layers)\n",
        "    self.L1 = nn.Linear(hidden_size, vocab_size)\n",
        "\n",
        "  def forward(self, fr_sent, states):\n",
        "    embeddings = self.embedd(fr_sent)\n",
        "    out, states = self.decoder_rnn(embeddings, states)\n",
        "    out = self.L1(out)\n",
        "    return out, states\n",
        "\n",
        "class Model(nn.Module):\n",
        "  def __init__(self, embedding_dim, hidden_size, en_vocab_size, de_vocab_size, num_layers):\n",
        "    super(Model, self).__init__()\n",
        "    self.Encoder = EncoderRNN(embedding_dim, hidden_size, en_vocab_size, num_layers)\n",
        "    self.Decoder = DecoderRNN(embedding_dim, hidden_size, de_vocab_size, num_layers)\n",
        "    self.de_vocab_size = de_vocab_size\n",
        "\n",
        "  def forward(self, en_sent, de_sent):\n",
        "    enc_states = self.Encoder(en_sent)\n",
        "    dec_states = enc_states\n",
        "    seq_len = de_sent.shape[0]\n",
        "    batch_size = de_sent.shape[1]\n",
        "    predictions = torch.zeros(seq_len, batch_size, self.de_vocab_size).to(device)\n",
        "    inp = de_sent[0,:].unsqueeze(0)\n",
        "    for t in range(1, seq_len):\n",
        "      output, dec_states = self.Decoder(inp, dec_states)\n",
        "      output = output.squeeze()\n",
        "      predictions[t] = output.view(batch_size, self.de_vocab_size)\n",
        "      inp = output.argmax(1).unsqueeze(0)\n",
        "\n",
        "    return predictions"
      ],
      "metadata": {
        "id": "6glJczVGpL5c"
      },
      "execution_count": null,
      "outputs": []
    },
    {
      "cell_type": "code",
      "source": [
        "params = {'batch_size': 32,\n",
        "          'shuffle': True,\n",
        "          'num_workers': 2}"
      ],
      "metadata": {
        "id": "jwcSm9mHoyg0"
      },
      "execution_count": null,
      "outputs": []
    },
    {
      "cell_type": "code",
      "source": [
        "dataset = Multi30K('/content/train.en', '/content/train.de')\n",
        "data = DataLoader(dataset, **params)"
      ],
      "metadata": {
        "id": "IMiYMWQ0EXXy"
      },
      "execution_count": null,
      "outputs": []
    },
    {
      "cell_type": "code",
      "source": [
        "embedding_dim = 512\n",
        "hidden_size = 512\n",
        "en_vocab_size = len(dataset.en_vocab)\n",
        "de_vocab_size = len(dataset.de_vocab)\n",
        "num_layers = 2"
      ],
      "metadata": {
        "id": "rhCrjQZlpGM3"
      },
      "execution_count": null,
      "outputs": []
    },
    {
      "cell_type": "code",
      "source": [
        "model = Model(embedding_dim, hidden_size, en_vocab_size+1, de_vocab_size+1, num_layers)\n",
        "model = model.to(device)\n",
        "criterion = nn.CrossEntropyLoss(ignore_index=dataset.de_word2idx[\"<PAD>\"])\n",
        "optimizer = torch.optim.Adam(model.parameters())"
      ],
      "metadata": {
        "id": "eKJhUR17pQtc"
      },
      "execution_count": null,
      "outputs": []
    },
    {
      "cell_type": "code",
      "source": [
        "train_loss, train_perplexity = [], []\n",
        "valid_loss, valid_perplexity = [], []\n",
        "for epoch in range(10):\n",
        "  epoch_loss = 0\n",
        "  for t, (en,de) in enumerate(data):\n",
        "    if t < 906:\n",
        "      en = en.mT.to(device)\n",
        "      de = de.mT.to(device)\n",
        "      out = model(en, de)\n",
        "      loss = criterion(out.reshape(-1, out.shape[2]), de.reshape(-1))\n",
        "      epoch_loss += float(loss)\n",
        "      optimizer.zero_grad()\n",
        "      loss.backward()\n",
        "      optimizer.step()\n",
        "    else:\n",
        "      en = en.mT.to(device)\n",
        "      de = de.mT.to(device)\n",
        "      out = model(en, de)\n",
        "      loss = criterion(out.reshape(-1, out.shape[2]), de.reshape(-1))\n",
        "      out = torch.argmax(out, dim=2)\n",
        "\n",
        "  valid_loss.append(float(loss))\n",
        "  train_loss.append(epoch_loss/len(data))\n",
        "  valid_perplexity.append(float(torch.exp(loss)))\n",
        "  train_perplexity.append(math.exp(epoch_loss/len(data)))\n",
        "  print(\"-\"*25, f\"Epoch {epoch + 1}\",\"-\"*25)\n",
        "  print(\"Train Loss : \", round(train_loss[-1],3), \"Train Perplexity : \", round(train_perplexity[-1],3))\n",
        "  print(\"Valid Loss : \", round(valid_loss[-1],3), \"Valid Perplexity : \", round(valid_perplexity[-1],3))"
      ],
      "metadata": {
        "id": "h006VxtXpUWw",
        "colab": {
          "base_uri": "https://localhost:8080/"
        },
        "outputId": "4c001a20-e930-4257-a858-66f320c29253"
      },
      "execution_count": null,
      "outputs": [
        {
          "output_type": "stream",
          "name": "stdout",
          "text": [
            "------------------------- Epoch 1 -------------------------\n",
            "Train Loss :  5.045 Train Perplexity :  155.202\n",
            "Valid Loss :  4.669 Valid Perplexity :  106.609\n",
            "------------------------- Epoch 2 -------------------------\n",
            "Train Loss :  4.432 Train Perplexity :  84.118\n",
            "Valid Loss :  4.618 Valid Perplexity :  101.324\n",
            "------------------------- Epoch 3 -------------------------\n",
            "Train Loss :  4.114 Train Perplexity :  61.183\n",
            "Valid Loss :  3.524 Valid Perplexity :  33.918\n",
            "------------------------- Epoch 4 -------------------------\n",
            "Train Loss :  3.852 Train Perplexity :  47.066\n",
            "Valid Loss :  3.755 Valid Perplexity :  42.717\n",
            "------------------------- Epoch 5 -------------------------\n",
            "Train Loss :  3.62 Train Perplexity :  37.343\n",
            "Valid Loss :  3.424 Valid Perplexity :  30.689\n",
            "------------------------- Epoch 6 -------------------------\n",
            "Train Loss :  3.411 Train Perplexity :  30.296\n",
            "Valid Loss :  3.979 Valid Perplexity :  53.477\n",
            "------------------------- Epoch 7 -------------------------\n",
            "Train Loss :  3.214 Train Perplexity :  24.877\n",
            "Valid Loss :  3.119 Valid Perplexity :  22.617\n",
            "------------------------- Epoch 8 -------------------------\n",
            "Train Loss :  3.029 Train Perplexity :  20.674\n",
            "Valid Loss :  2.906 Valid Perplexity :  18.281\n",
            "------------------------- Epoch 9 -------------------------\n",
            "Train Loss :  2.856 Train Perplexity :  17.39\n",
            "Valid Loss :  2.937 Valid Perplexity :  18.859\n",
            "------------------------- Epoch 10 -------------------------\n",
            "Train Loss :  2.699 Train Perplexity :  14.865\n",
            "Valid Loss :  2.859 Valid Perplexity :  17.438\n"
          ]
        }
      ]
    },
    {
      "cell_type": "code",
      "source": [
        "plt.plot(train_loss, 'o:r')\n",
        "plt.title(\"Training Loss\")\n",
        "plt.show()"
      ],
      "metadata": {
        "id": "9dEBVuATOIqD",
        "colab": {
          "base_uri": "https://localhost:8080/",
          "height": 452
        },
        "outputId": "b5197ba7-16d7-4e90-9a8e-57203e93777a"
      },
      "execution_count": null,
      "outputs": [
        {
          "output_type": "display_data",
          "data": {
            "text/plain": [
              "<Figure size 640x480 with 1 Axes>"
            ],
            "image/png": "[encoded data removed]"
          },
          "metadata": {}
        }
      ]
    },
    {
      "cell_type": "code",
      "source": [
        "plt.plot(valid_loss, 'o:r')\n",
        "plt.title(\"Validation Loss\")\n",
        "plt.show()"
      ],
      "metadata": {
        "colab": {
          "base_uri": "https://localhost:8080/",
          "height": 452
        },
        "id": "aV1bjjtiqSUu",
        "outputId": "62b91025-431b-4d6f-d891-b20db99f2d54"
      },
      "execution_count": null,
      "outputs": [
        {
          "output_type": "display_data",
          "data": {
            "text/plain": [
              "<Figure size 640x480 with 1 Axes>"
            ],
            "image/png": "[encoded data removed]"
          },
          "metadata": {}
        }
      ]
    },
    {
      "cell_type": "code",
      "source": [
        "plt.plot(train_perplexity, 'o:r')\n",
        "plt.title(\"Training Perplexity\")\n",
        "plt.show()"
      ],
      "metadata": {
        "id": "CQITEK2rUbfc",
        "outputId": "31a8dc97-d400-4a97-989f-4a12c644e4ab",
        "colab": {
          "base_uri": "https://localhost:8080/",
          "height": 452
        }
      },
      "execution_count": null,
      "outputs": [
        {
          "output_type": "display_data",
          "data": {
            "text/plain": [
              "<Figure size 640x480 with 1 Axes>"
            ],
            "image/png": "[encoded data removed]"
          },
          "metadata": {}
        }
      ]
    },
    {
      "cell_type": "code",
      "source": [
        "plt.plot(valid_perplexity, 'o:r')\n",
        "plt.title(\"Validation Perplexity\")\n",
        "plt.show()"
      ],
      "metadata": {
        "colab": {
          "base_uri": "https://localhost:8080/",
          "height": 452
        },
        "id": "OQzG4s40qZFg",
        "outputId": "3583e060-be38-4261-c466-00f184d169a2"
      },
      "execution_count": null,
      "outputs": [
        {
          "output_type": "display_data",
          "data": {
            "text/plain": [
              "<Figure size 640x480 with 1 Axes>"
            ],
            "image/png": "[encoded data removed]"
          },
          "metadata": {}
        }
      ]
    },
    {
      "cell_type": "code",
      "source": [
        "def Translate(src_sentence,  model):\n",
        "  with torch.no_grad():\n",
        "    enc_states = model.Encoder(src_sentence)\n",
        "  dec_states = enc_states\n",
        "  sos_id = dataset.de_word2idx['<SOS>']\n",
        "  eos_id = dataset.de_word2idx['<EOS>']\n",
        "  predicts = [sos_id]\n",
        "  len = 1\n",
        "  max_len = 40\n",
        "  while len < max_len:\n",
        "    inp = torch.LongTensor([predicts[-1]]).view((1, 1)).to(device)\n",
        "    with torch.no_grad():\n",
        "      outputs, dec_states = model.Decoder(inp, dec_states)\n",
        "    outputs = outputs.squeeze()\n",
        "    outputs = outputs.view(-1, 8192)\n",
        "    predicts.append(outputs.argmax(-1).item())\n",
        "    len += 1\n",
        "    if predicts[-1] == eos_id:\n",
        "      break\n",
        "  sentence = [dataset.de_idx2word[id] for id in predicts]\n",
        "  return sentence"
      ],
      "metadata": {
        "id": "NS6cC-zqdU2B"
      },
      "execution_count": null,
      "outputs": []
    },
    {
      "cell_type": "code",
      "source": [
        "from nltk.translate.bleu_score import sentence_bleu"
      ],
      "metadata": {
        "id": "kWTVmhQ4tkVW"
      },
      "execution_count": null,
      "outputs": []
    },
    {
      "cell_type": "code",
      "source": [
        "def CalcBELU(model, dataset):\n",
        "  belu_score = 0\n",
        "  for n in range(1,9):\n",
        "    true_translation = []\n",
        "    (en,de) = dataset[-n]\n",
        "    en = en.resize_(en.size(0),1).to(device)\n",
        "    pred_translation = Translate(en, model)\n",
        "    for id in de:\n",
        "      if id != dataset.de_word2idx['<PAD>']:\n",
        "        true_translation.append(dataset.de_idx2word[int(id)])\n",
        "    belu_score += float(sentence_bleu([pred_translation], true_translation))\n",
        "  return belu_score/8"
      ],
      "metadata": {
        "id": "Bqk-wP8vP95e"
      },
      "execution_count": null,
      "outputs": []
    },
    {
      "cell_type": "code",
      "source": [
        "print(\"Obtained BELU Score : \", CalcBELU(model, dataset)*100)"
      ],
      "metadata": {
        "colab": {
          "base_uri": "https://localhost:8080/"
        },
        "id": "43X3YSSqUfbd",
        "outputId": "ef4ad58f-4b37-4eb8-cbda-fcfa9b45ee7b"
      },
      "execution_count": null,
      "outputs": [
        {
          "output_type": "stream",
          "name": "stdout",
          "text": [
            "Obtained BELU Score :  28.446705281295404\n"
          ]
        }
      ]
    },
    {
      "cell_type": "code",
      "source": [
        "txt = input(\"Enter A Text : \")\n",
        "txt = en_tokenizer(txt.lower().strip())\n",
        "for i in range(len(txt)):\n",
        "  if txt[i] in dataset.en_vocab:\n",
        "    txt[i] = dataset.en_word2idx[txt[i]]\n",
        "  else:\n",
        "    txt[i] = dataset.en_word2idx['<UNK>']\n",
        "txt = torch.tensor(txt)\n",
        "txt.resize_(len(txt), 1)\n",
        "txt = txt.to(device)\n",
        "german = Translate(txt, model)\n",
        "print(german)"
      ],
      "metadata": {
        "colab": {
          "base_uri": "https://localhost:8080/"
        },
        "id": "y18NrKaNlxeV",
        "outputId": "ef1cce64-6a71-4bdd-a112-3093da6952d8"
      },
      "execution_count": null,
      "outputs": [
        {
          "output_type": "stream",
          "name": "stdout",
          "text": [
            "Enter A Text : A man in a white shirt\n",
            "['<SOS>', 'ein', 'mann', 'mit', 'einem', 'weißen', 'hemd', 'in', '<EOS>']\n"
          ]
        }
      ]
    }
  ]
}